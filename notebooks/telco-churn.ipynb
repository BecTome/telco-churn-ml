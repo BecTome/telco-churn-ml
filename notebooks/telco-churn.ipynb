{
 "cells": [
  {
   "cell_type": "markdown",
   "metadata": {},
   "source": [
    "# TelcoX Churn Analysis"
   ]
  },
  {
   "cell_type": "markdown",
   "metadata": {},
   "source": [
    "TelecoX  is  a  national  telecommunication  company  that  is  facing  an  increasing  churning \n",
    "problem due to the privatization of the market. \n",
    " \n",
    "In order to mitigate this issue, the head of the marketing department is aiming to offer a 20% \n",
    "discount for customers who are likely to churn. Hence it important to predict accurately the \n",
    "propensity of churn of each customer while reducing the number of false positive. "
   ]
  },
  {
   "cell_type": "code",
   "execution_count": null,
   "metadata": {},
   "outputs": [],
   "source": []
  }
 ],
 "metadata": {
  "kernelspec": {
   "display_name": "Python 3.10.8 64-bit",
   "language": "python",
   "name": "python3"
  },
  "language_info": {
   "name": "python",
   "version": "3.10.8"
  },
  "orig_nbformat": 4,
  "vscode": {
   "interpreter": {
    "hash": "7600a12950a547366bb7a6732117e300ffd26224351912980486e1126c5d0f9a"
   }
  }
 },
 "nbformat": 4,
 "nbformat_minor": 2
}
